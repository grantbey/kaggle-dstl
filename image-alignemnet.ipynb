{
 "cells": [
  {
   "cell_type": "code",
   "execution_count": 2,
   "metadata": {
    "collapsed": false
   },
   "outputs": [
    {
     "ename": "ImportError",
     "evalue": "No module named 'tifffile'",
     "output_type": "error",
     "traceback": [
      "\u001b[0;31m---------------------------------------------------------------------------\u001b[0m",
      "\u001b[0;31mImportError\u001b[0m                               Traceback (most recent call last)",
      "\u001b[0;32m<ipython-input-2-a42f41079d82>\u001b[0m in \u001b[0;36m<module>\u001b[0;34m()\u001b[0m\n\u001b[1;32m     15\u001b[0m \u001b[0;34m\u001b[0m\u001b[0m\n\u001b[1;32m     16\u001b[0m \u001b[0;32mimport\u001b[0m \u001b[0mcv2\u001b[0m\u001b[0;34m\u001b[0m\u001b[0m\n\u001b[0;32m---> 17\u001b[0;31m \u001b[0;32mimport\u001b[0m \u001b[0mtifffile\u001b[0m \u001b[0;32mas\u001b[0m \u001b[0mtiff\u001b[0m\u001b[0;34m\u001b[0m\u001b[0m\n\u001b[0m",
      "\u001b[0;31mImportError\u001b[0m: No module named 'tifffile'"
     ]
    }
   ],
   "source": [
    "# This Python 3 environment comes with many helpful analytics libraries installed\n",
    "# It is defined by the kaggle/python docker image: https://github.com/kaggle/docker-python\n",
    "# For example, here's several helpful packages to load in \n",
    "\n",
    "import numpy as np # linear algebra\n",
    "import pandas as pd # data processing, CSV file I/O (e.g. pd.read_csv)\n",
    "\n",
    "# Input data files are available in the \"../input/\" directory.\n",
    "# For example, running this (by clicking run or pressing Shift+Enter) will list the files in the input directory\n",
    "\n",
    "from subprocess import check_output\n",
    "# print(check_output([\"ls\", \"../input\"]).decode(\"utf8\"))\n",
    "\n",
    "# Any results you write to the current directory are saved as output.\n",
    "\n",
    "import cv2\n",
    "import tifffile as tiff"
   ]
  },
  {
   "cell_type": "code",
   "execution_count": 4,
   "metadata": {
    "collapsed": false
   },
   "outputs": [],
   "source": [
    "cv2.findTransformECC?"
   ]
  },
  {
   "cell_type": "code",
   "execution_count": null,
   "metadata": {
    "collapsed": true
   },
   "outputs": [],
   "source": [
    "def _align_two_rasters(img1,img2):\n",
    "    try:\n",
    "        p1 = img1[300:1900,300:2200,1].astype(np.float32)\n",
    "        p2 = img2[300:1900,300:2200,3].astype(np.float32)\n",
    "    except:\n",
    "        print(\"_align_two_rasters: can't extract patch, falling back to whole image\")\n",
    "        p1 = img1[:,:,1]\n",
    "        p2 = img2[:,:,3]\n",
    "\n",
    "    # lp1 = cv2.Laplacian(p1,cv2.CV_32F,ksize=5)\n",
    "    # lp2 = cv2.Laplacian(p2,cv2.CV_32F,ksize=5)\n",
    "\n",
    "    # Define the motion model\n",
    "    warp_mode = cv2.MOTION_EUCLIDEAN\n",
    "    \n",
    "    # Define 2x3 matrices and initialize the matrix to identity\n",
    "    warp_matrix = np.eye(2, 3, dtype=np.float32) # In OpenCV an Affine transform is stored in a 2 x 3 sized matrix\n",
    "    \n",
    "    # Specify the number of iterations.\n",
    "    number_of_iterations = 5000 # Uses 1000 below\n",
    "    \n",
    "    # Specify the threshold of the increment\n",
    "    # in the correlation coefficient between two iterations\n",
    "    termination_eps = 1e-10 # uses 1e-7 below\n",
    "    \n",
    "    # Define termination criteria\n",
    "    criteria = (cv2.TERM_CRITERIA_EPS | cv2.TERM_CRITERIA_COUNT, 1000,  1e-7)\n",
    "    \n",
    "    # Run the ECC algorithm. The results are stored in warp_matrix.\n",
    "    (cc, warp_matrix) = cv2.findTransformECC (p1, p2,warp_matrix, warp_mode, criteria)\n",
    "    print(\"_align_two_rasters: cc:{}\".format(cc))\n",
    "    \n",
    "    # Use warpAffine for Translation, Euclidean and Affine\n",
    "    img3 = cv2.warpAffine(img2, warp_matrix, (img1.shape[1], img1.shape[0]), flags=cv2.INTER_LINEAR + cv2.WARP_INVERSE_MAP)\n",
    "    img3[img3 == 0] = np.average(img3)\n",
    "\n",
    "    return img3"
   ]
  },
  {
   "cell_type": "code",
   "execution_count": 5,
   "metadata": {
    "collapsed": true
   },
   "outputs": [],
   "source": [
    "np.transpose?"
   ]
  },
  {
   "cell_type": "code",
   "execution_count": null,
   "metadata": {
    "collapsed": true
   },
   "outputs": [],
   "source": [
    "# Load an image, three band and 16 band\n",
    "image_id = \"6120_2_2\"\n",
    "img_3 = np.transpose(tiff.imread(\"../input/three_band/{}.tif\".format(image_id)),(1,2,0))\n",
    "img_a = np.transpose(tiff.imread(\"../input/sixteen_band/{}_A.tif\".format(image_id)),(1,2,0))\n",
    "\n",
    "# Resize the 16-band image to the same size as the three band\n",
    "raster_size = img_3.shape\n",
    "img_a = cv2.resize(img_a,(raster_size[1],raster_size[0]),interpolation=cv2.INTER_CUBIC)\n",
    "\n",
    "# Make a new image, aligned\n",
    "# Note: first argument is the anchor, second argument will be realigned and returned\n",
    "img_a_new = _align_two_rasters(img_3,img_a)\n",
    "\n",
    "img_a = 255 * (img_a.astype(np.float32)-300) / (np.max(img_a) * 1.1) + 40\n",
    "img_3 = 255 * img_3.astype(np.float32) / (np.max(img_3) * 0.9) + 60\n",
    "img_a_new = 255 * (img_a_new.astype(np.float32)-300) / (np.max(img_a_new) * 1.1) + 40\n",
    "\n",
    "# This section is just for visualiztion of the aligned images\n",
    "img_orig = np.stack([img_a[:, :, 4], img_3[:, :, 1], img_3[:, :, 0]], axis=-1).astype(np.uint8)\n",
    "img_reg = np.stack([img_a_new[:, :, 4], img_3[:, :, 1], img_3[:, :, 0]], axis=-1).astype(np.uint8)\n",
    "\n",
    "\n",
    "cv2.imwrite(\"original.png\",img_orig[200:900,300:1200,:])\n",
    "cv2.imwrite(\"registered.png\",img_reg[200:900,300:1200,:])"
   ]
  },
  {
   "cell_type": "code",
   "execution_count": null,
   "metadata": {
    "collapsed": true
   },
   "outputs": [],
   "source": []
  },
  {
   "cell_type": "code",
   "execution_count": null,
   "metadata": {
    "collapsed": true
   },
   "outputs": [],
   "source": []
  },
  {
   "cell_type": "code",
   "execution_count": null,
   "metadata": {
    "collapsed": true
   },
   "outputs": [],
   "source": []
  },
  {
   "cell_type": "code",
   "execution_count": null,
   "metadata": {
    "collapsed": true
   },
   "outputs": [],
   "source": []
  },
  {
   "cell_type": "code",
   "execution_count": null,
   "metadata": {
    "collapsed": true
   },
   "outputs": [],
   "source": []
  },
  {
   "cell_type": "code",
   "execution_count": null,
   "metadata": {
    "collapsed": true
   },
   "outputs": [],
   "source": []
  },
  {
   "cell_type": "code",
   "execution_count": null,
   "metadata": {
    "collapsed": true
   },
   "outputs": [],
   "source": []
  }
 ],
 "metadata": {
  "kernelspec": {
   "display_name": "Python [conda root]",
   "language": "python",
   "name": "conda-root-py"
  },
  "language_info": {
   "codemirror_mode": {
    "name": "ipython",
    "version": 3
   },
   "file_extension": ".py",
   "mimetype": "text/x-python",
   "name": "python",
   "nbconvert_exporter": "python",
   "pygments_lexer": "ipython3",
   "version": "3.5.2"
  }
 },
 "nbformat": 4,
 "nbformat_minor": 1
}
