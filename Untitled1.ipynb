{
 "cells": [
  {
   "cell_type": "code",
   "execution_count": 1,
   "metadata": {
    "collapsed": true
   },
   "outputs": [],
   "source": [
    "# imports\n",
    "import pandas as pd\n",
    "import numpy as np"
   ]
  },
  {
   "cell_type": "code",
   "execution_count": 2,
   "metadata": {
    "collapsed": false
   },
   "outputs": [
    {
     "data": {
      "text/html": [
       "<div>\n",
       "<table border=\"1\" class=\"dataframe\">\n",
       "  <thead>\n",
       "    <tr style=\"text-align: right;\">\n",
       "      <th></th>\n",
       "      <th>ImageId</th>\n",
       "      <th>ClassType</th>\n",
       "      <th>MultipolygonWKT</th>\n",
       "    </tr>\n",
       "  </thead>\n",
       "  <tbody>\n",
       "    <tr>\n",
       "      <th>0</th>\n",
       "      <td>6120_2_4</td>\n",
       "      <td>1</td>\n",
       "      <td>POLYGON ((0 0, 0.009188 0, 0.009188 -0.0090399...</td>\n",
       "    </tr>\n",
       "    <tr>\n",
       "      <th>1</th>\n",
       "      <td>6120_2_4</td>\n",
       "      <td>2</td>\n",
       "      <td>POLYGON ((0 0, 0.009188 0, 0.009188 -0.0090399...</td>\n",
       "    </tr>\n",
       "    <tr>\n",
       "      <th>2</th>\n",
       "      <td>6120_2_4</td>\n",
       "      <td>3</td>\n",
       "      <td>POLYGON ((0 0, 0.009188 0, 0.009188 -0.0090399...</td>\n",
       "    </tr>\n",
       "    <tr>\n",
       "      <th>3</th>\n",
       "      <td>6120_2_4</td>\n",
       "      <td>4</td>\n",
       "      <td>POLYGON ((0 0, 0.009188 0, 0.009188 -0.0090399...</td>\n",
       "    </tr>\n",
       "    <tr>\n",
       "      <th>4</th>\n",
       "      <td>6120_2_4</td>\n",
       "      <td>5</td>\n",
       "      <td>POLYGON ((0 0, 0.009188 0, 0.009188 -0.0090399...</td>\n",
       "    </tr>\n",
       "  </tbody>\n",
       "</table>\n",
       "</div>"
      ],
      "text/plain": [
       "    ImageId  ClassType                                    MultipolygonWKT\n",
       "0  6120_2_4          1  POLYGON ((0 0, 0.009188 0, 0.009188 -0.0090399...\n",
       "1  6120_2_4          2  POLYGON ((0 0, 0.009188 0, 0.009188 -0.0090399...\n",
       "2  6120_2_4          3  POLYGON ((0 0, 0.009188 0, 0.009188 -0.0090399...\n",
       "3  6120_2_4          4  POLYGON ((0 0, 0.009188 0, 0.009188 -0.0090399...\n",
       "4  6120_2_4          5  POLYGON ((0 0, 0.009188 0, 0.009188 -0.0090399..."
      ]
     },
     "execution_count": 2,
     "metadata": {},
     "output_type": "execute_result"
    }
   ],
   "source": [
    "df = pd.read_csv('./data/sample_submission.csv')\n",
    "df.head()"
   ]
  },
  {
   "cell_type": "code",
   "execution_count": null,
   "metadata": {
    "collapsed": true
   },
   "outputs": [],
   "source": [
    "def make_submit():\n",
    "    print \"make submission file\"\n",
    "    df = pd.read_csv('./data/sample_submission.csv')\n",
    "    print df.head()\n",
    "    for idx, row in df.iterrows():\n",
    "        id = row[0] # grabs the imageID\n",
    "        kls = row[1] - 1 # grabs the class (0-indexed)\n",
    "\n",
    "        # perhaps for me something along the lines of\n",
    "        # for msk in preds:\n",
    "        msk = np.load('msk/10_%s.npy' % id)[kls]\n",
    "        pred_polygons = mask_to_polygons(msk)\n",
    "        x_max = GS.loc[GS['ImageId'] == id, 'Xmax'].as_matrix()[0]\n",
    "        y_min = GS.loc[GS['ImageId'] == id, 'Ymin'].as_matrix()[0]\n",
    "\n",
    "        x_scaler, y_scaler = get_scalers(msk.shape, x_max, y_min)\n",
    "\n",
    "        scaled_pred_polygons = shapely.affinity.scale(pred_polygons, xfact=1.0 / x_scaler, yfact=1.0 / y_scaler,\n",
    "                                                      origin=(0, 0, 0))\n",
    "\n",
    "        df.iloc[idx, 2] = shapely.wkt.dumps(scaled_pred_polygons)\n",
    "        if idx % 100 == 0: print idx\n",
    "    print df.head()\n",
    "    df.to_csv('subm/1.csv', index=False)"
   ]
  }
 ],
 "metadata": {
  "anaconda-cloud": {},
  "kernelspec": {
   "display_name": "Python [conda root]",
   "language": "python",
   "name": "conda-root-py"
  },
  "language_info": {
   "codemirror_mode": {
    "name": "ipython",
    "version": 3
   },
   "file_extension": ".py",
   "mimetype": "text/x-python",
   "name": "python",
   "nbconvert_exporter": "python",
   "pygments_lexer": "ipython3",
   "version": "3.5.2"
  }
 },
 "nbformat": 4,
 "nbformat_minor": 1
}
