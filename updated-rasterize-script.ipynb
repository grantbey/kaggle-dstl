{
 "cells": [
  {
   "cell_type": "markdown",
   "metadata": {},
   "source": [
    "## Rasterize WKTs and load images\n",
    "\n",
    "This is heavily incomplete"
   ]
  },
  {
   "cell_type": "code",
   "execution_count": 9,
   "metadata": {
    "collapsed": true
   },
   "outputs": [],
   "source": [
    "import numpy as np\n",
    "\n",
    "import io\n",
    "import tifffile as tiff\n",
    "import zipfile\n",
    "\n",
    "#import skimage.transform"
   ]
  },
  {
   "cell_type": "markdown",
   "metadata": {},
   "source": [
    "###### First get all images resized to 160x160 and stored in a single array"
   ]
  },
  {
   "cell_type": "code",
   "execution_count": null,
   "metadata": {
    "collapsed": false
   },
   "outputs": [],
   "source": [
    "three = zipfile.ZipFile('./data/three_band.zip')\n",
    "sixteen = zipfile.ZipFile('./data/sixteen_band.zip')\n",
    "\n",
    "# os.path.join(inDir, 'sixteen_band', '{}_M.tif'.format(image_id))\n",
    "\n",
    "for file in three.namelist():\n",
    "    print(file)\n",
    "    with three.open(file) as f:\n",
    "        img = tiff.imread(io.BytesIO(f.read())).astype(np.float32)\n",
    "        if file[-5:-4] == 'P':\n",
    "            img = img[np.newaxis,...]\n",
    "        img = skimage.transform.resize(img,(img.shape[0],160,160))\n",
    "            \n",
    "        "
   ]
  },
  {
   "cell_type": "code",
   "execution_count": null,
   "metadata": {
    "collapsed": true
   },
   "outputs": [],
   "source": [
    "# Normalize as 0,1\n",
    "for channel in range(img.shape[0]):\n",
    "    img[channel,...] = (img[channel,...].min()-img[channel,...])/(img[channel,...].min()-img[channel,...].max())"
   ]
  },
  {
   "cell_type": "code",
   "execution_count": null,
   "metadata": {
    "collapsed": true
   },
   "outputs": [],
   "source": [
    "img_resized = skimage.transform.resize(img,(3,3350,3350))"
   ]
  },
  {
   "cell_type": "code",
   "execution_count": 33,
   "metadata": {
    "collapsed": true
   },
   "outputs": [],
   "source": [
    "np.save?"
   ]
  },
  {
   "cell_type": "code",
   "execution_count": null,
   "metadata": {
    "collapsed": true
   },
   "outputs": [],
   "source": [
    "from matplotlib import pyplot as plt\n",
    "plt.figure(figsize=(8,8))\n",
    "plt.imshow(np.rollaxis(img[:3,...],0,3))\n",
    "plt.show()"
   ]
  }
 ],
 "metadata": {
  "kernelspec": {
   "display_name": "Python 3",
   "language": "python",
   "name": "python3"
  },
  "language_info": {
   "codemirror_mode": {
    "name": "ipython",
    "version": 3
   },
   "file_extension": ".py",
   "mimetype": "text/x-python",
   "name": "python",
   "nbconvert_exporter": "python",
   "pygments_lexer": "ipython3",
   "version": "3.5.2"
  }
 },
 "nbformat": 4,
 "nbformat_minor": 0
}
