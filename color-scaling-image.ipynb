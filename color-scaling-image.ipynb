{
 "cells": [
  {
   "cell_type": "markdown",
   "metadata": {
    "_cell_guid": "f5d816cc-c8cf-ffac-bc15-f440cf3baf99"
   },
   "source": [
    "Explore pixel scaling in images. See [here](https://www.kaggle.com/gabrielaltay/dstl-satellite-imagery-feature-detection/exploring-color-scaling-images/code)\n",
    "\n",
    "Also see [here](http://scikit-image.org/docs/dev/auto_examples/color_exposure/plot_equalize.html#sphx-glr-auto-examples-color-exposure-plot-equalize-py)"
   ]
  },
  {
   "cell_type": "code",
   "execution_count": null,
   "metadata": {
    "_cell_guid": "93ef5614-aac8-f6ed-98dd-4fb5e31d8150",
    "collapsed": true
   },
   "outputs": [],
   "source": [
    "import tifffile as tiff\n",
    "import numpy as np\n",
    "import matplotlib.pyplot as plt\n",
    "import skimage.exposure"
   ]
  },
  {
   "cell_type": "code",
   "execution_count": null,
   "metadata": {
    "_cell_guid": "777d35d3-2d2d-9c5d-83dd-eceb1849b2ea",
    "collapsed": true
   },
   "outputs": [],
   "source": [
    "fname = '../input/three_band/6120_2_4.tif'\n",
    "tfl = tiff.TiffFile(fname)\n",
    "pg = tfl.pages[0]\n",
    "print('bits per sample: {}'.format(pg.bits_per_sample))\n",
    "img = tfl.asarray()\n",
    "print('img dtype: {}'.format(img.dtype))\n",
    "print('img shape: {}'.format(img.shape))\n",
    "print('img min/max pixel values: {}, {}'.format(img.min(), img.max()))\n",
    "\n",
    "# most python things expect the color channels as the last dimension and floats\n",
    "new_im = np.zeros(shape=(img.shape[1], img.shape[2], img.shape[0]), dtype=img.dtype)\n",
    "for ich in range(img.shape[0]):\n",
    "    new_im[:,:,ich] = img[ich,:,:]\n",
    "img = new_im.astype(np.float32)\n",
    "img = skimage.exposure.rescale_intensity(img)  # will scale float values between 0.0 and 1.0\n",
    "print()\n",
    "print('img dtype: {}'.format(img.dtype))\n",
    "print('img shape: {}'.format(img.shape))\n",
    "print('img min/max pixel values: {}, {}'.format(img.min(), img.max()))\n",
    "img_orig = img.copy()"
   ]
  },
  {
   "cell_type": "code",
   "execution_count": null,
   "metadata": {
    "_cell_guid": "178f1ec5-6631-c661-8a61-d6ce63164d93",
    "collapsed": true
   },
   "outputs": [],
   "source": [
    "# plot RGB\n",
    "img = img_orig.copy()\n",
    "fig, axes = plt.subplots(figsize=(6,12), nrows=2, ncols=1)\n",
    "axes[0].imshow(img)\n",
    "for ich, color, ls in zip(range(3), ['red', 'green', 'blue'], ['-', '--', ':']):\n",
    "    n, bins, patches = axes[1].hist(\n",
    "        img[:,:,ich].flatten(), bins=20, color=color, histtype='step', lw=3.0, ls=ls)"
   ]
  },
  {
   "cell_type": "code",
   "execution_count": null,
   "metadata": {
    "_cell_guid": "78f1338f-67be-16e8-df0b-ab5b1875de27",
    "collapsed": true
   },
   "outputs": [],
   "source": [
    "# what happens if we linearly stretch values to fill the range 0-1\n",
    "# with a percentile clip to remove extreme values\n",
    "img = img_orig.copy()\n",
    "vmin = np.percentile(img, 2.0)\n",
    "vmax = np.percentile(img, 98.0)\n",
    "img[img<vmin] = vmin\n",
    "img[img>vmax] = vmax\n",
    "img = (img - img.min()) / (img.max() - img.min())\n",
    "    \n",
    "# plot RGB\n",
    "fig, axes = plt.subplots(figsize=(6,12), nrows=2, ncols=1)\n",
    "axes[0].imshow(img)\n",
    "for ich, color, ls in zip(range(3), ['red', 'green', 'blue'], ['-', '--', ':']):\n",
    "    n, bins, patches = axes[1].hist(\n",
    "        img[:,:,ich].flatten(), bins=20, color=color, histtype='step', lw=3.0, ls=ls)"
   ]
  },
  {
   "cell_type": "code",
   "execution_count": null,
   "metadata": {
    "_cell_guid": "fbc254ef-4934-786f-a82d-8d70bb667a98",
    "collapsed": true
   },
   "outputs": [],
   "source": [
    "# what happens if we linearly stretch each color channel to fill the range 0-1\n",
    "# this seems to be what the plotRGB function in R does with stretch='lin'\n",
    "img = img_orig.copy()\n",
    "for ich in range(img.shape[2]):\n",
    "    im = img[:,:,ich]\n",
    "    vmin = np.percentile(im, 2.0)\n",
    "    vmax = np.percentile(im, 98.0)\n",
    "    im[im<vmin] = vmin\n",
    "    im[im>vmax] = vmax\n",
    "    im = (im - im.min()) / (im.max() - im.min())\n",
    "    img[:,:,ich] = im\n",
    "    \n",
    "# plot RGB\n",
    "fig, axes = plt.subplots(figsize=(6,12), nrows=2, ncols=1)\n",
    "axes[0].imshow(img)\n",
    "for ich, color, ls in zip(range(3), ['red', 'green', 'blue'], ['-', '--', ':']):\n",
    "    n, bins, patches = axes[1].hist(\n",
    "        img[:,:,ich].flatten(), bins=20, color=color, histtype='step', lw=3.0, ls=ls)"
   ]
  },
  {
   "cell_type": "code",
   "execution_count": null,
   "metadata": {
    "_cell_guid": "55e3e051-488a-fa60-3034-0f37dcb93b86",
    "collapsed": true
   },
   "outputs": [],
   "source": [
    "# what happens if we equalize histogram each color channel \n",
    "img = img_orig.copy()\n",
    "for ich in range(img.shape[2]):\n",
    "    im = img[:,:,ich]\n",
    "    im = skimage.exposure.equalize_hist(im)\n",
    "    img[:,:,ich] = im\n",
    "\n",
    "# plot RGB\n",
    "fig, axes = plt.subplots(figsize=(6,12), nrows=2, ncols=1)\n",
    "axes[0].imshow(img)\n",
    "for ich, color, ls in zip(range(3), ['red', 'green', 'blue'], ['-', '--', ':']):\n",
    "    n, bins, patches = axes[1].hist(\n",
    "        img[:,:,ich].flatten(), bins=20, color=color, histtype='step', lw=3.0, ls=ls)    \n",
    "    "
   ]
  },
  {
   "cell_type": "code",
   "execution_count": null,
   "metadata": {
    "_cell_guid": "92abd714-4763-ce96-0446-3ebfbb3f1b41",
    "collapsed": true
   },
   "outputs": [],
   "source": [
    "# what happens if we equalize adaptive histogram each color channel \n",
    "img = img_orig.copy()\n",
    "for ich in range(img.shape[2]):\n",
    "    im = img[:,:,ich]\n",
    "    im = skimage.exposure.equalize_adapthist(im)\n",
    "    img[:,:,ich] = im\n",
    "\n",
    "# plot RGB\n",
    "fig, axes = plt.subplots(figsize=(6,12), nrows=2, ncols=1)\n",
    "axes[0].imshow(img)\n",
    "for ich, color, ls in zip(range(3), ['red', 'green', 'blue'], ['-', '--', ':']):\n",
    "    n, bins, patches = axes[1].hist(\n",
    "        img[:,:,ich].flatten(), bins=20, color=color, histtype='step', lw=3.0, ls=ls)"
   ]
  },
  {
   "cell_type": "code",
   "execution_count": null,
   "metadata": {
    "_cell_guid": "d0e028bf-f67b-e269-634c-7ab037d48567",
    "collapsed": true
   },
   "outputs": [],
   "source": []
  }
 ],
 "metadata": {
  "_change_revision": 0,
  "_is_fork": false,
  "anaconda-cloud": {},
  "kernelspec": {
   "display_name": "Python [default]",
   "language": "python",
   "name": "python3"
  },
  "language_info": {
   "codemirror_mode": {
    "name": "ipython",
    "version": 3
   },
   "file_extension": ".py",
   "mimetype": "text/x-python",
   "name": "python",
   "nbconvert_exporter": "python",
   "pygments_lexer": "ipython3",
   "version": "3.5.2"
  }
 },
 "nbformat": 4,
 "nbformat_minor": 0
}
